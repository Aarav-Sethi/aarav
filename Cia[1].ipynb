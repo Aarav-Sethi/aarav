{
 "cells": [
  {
   "cell_type": "code",
   "execution_count": 33,
   "id": "f3000e7a-a43f-445f-a09d-d7f1aa40060c",
   "metadata": {},
   "outputs": [
    {
     "name": "stdout",
     "output_type": "stream",
     "text": [
      "🎮 Welcome to Stone, Paper, Scissors\n",
      "🖥️ Computer chose: paper\n",
      "✅ You Lose this round!\n"
     ]
    },
    {
     "data": {
      "text/plain": [
       "'stone'"
      ]
     },
     "execution_count": 33,
     "metadata": {},
     "output_type": "execute_result"
    }
   ],
   "source": [
    "import random\n",
    "\n",
    "print(\"🎮 Welcome to Stone, Paper, Scissors\")\n",
    "choices_list=[\"stone\",\"paper\",\"scissors\"]\n",
    "comp_wins=0\n",
    "\n",
    "def play(action):\n",
    "    global comp_wins\n",
    "    comp = random.choice(choices_list)\n",
    "    print(f\"🖥️ Computer chose: {comp}\")\n",
    "    if action==comp:\n",
    "        result=\"Draw\"\n",
    "    elif (action == \"stone\" and comp == \"scissors\") or \\\n",
    "         (action == \"paper\" and comp == \"stone\") or \\\n",
    "         (action == \"scissors\" and comp == \"paper\"):\n",
    "        result = \"Win\"\n",
    "    else:\n",
    "        result = \"Lose\"\n",
    "        comp_wins += 1\n",
    "          # Show result of current round\n",
    "    print(f\"✅ You {result} this round!\")\n",
    "    return action \n",
    "play(\"stone\")"
   ]
  },
  {
   "cell_type": "code",
   "execution_count": 36,
   "id": "e66ca684-bfbf-43a9-92db-cb82cda52a82",
   "metadata": {},
   "outputs": [
    {
     "name": "stdout",
     "output_type": "stream",
     "text": [
      "\n",
      "Round 1\n"
     ]
    },
    {
     "name": "stdin",
     "output_type": "stream",
     "text": [
      "Choose stone, paper or scissors:  stone\n"
     ]
    },
    {
     "name": "stdout",
     "output_type": "stream",
     "text": [
      "Computer chose: paper\n",
      "🎯 You Lose this round!\n",
      "\n",
      "Round 2\n"
     ]
    },
    {
     "name": "stdin",
     "output_type": "stream",
     "text": [
      "Choose stone, paper or scissors:  paper\n"
     ]
    },
    {
     "name": "stdout",
     "output_type": "stream",
     "text": [
      "Computer chose: paper\n",
      "🎯 You Draw this round!\n",
      "\n",
      "Round 3\n"
     ]
    },
    {
     "name": "stdin",
     "output_type": "stream",
     "text": [
      "Choose stone, paper or scissors:  scissors\n"
     ]
    },
    {
     "name": "stdout",
     "output_type": "stream",
     "text": [
      "Computer chose: stone\n",
      "🎯 You Lose this round!\n",
      "\n",
      "Round 4\n"
     ]
    },
    {
     "name": "stdin",
     "output_type": "stream",
     "text": [
      "Choose stone, paper or scissors:  scissors\n"
     ]
    },
    {
     "name": "stdout",
     "output_type": "stream",
     "text": [
      "Computer chose: stone\n",
      "🎯 You Lose this round!\n",
      "\n",
      "Round 5\n"
     ]
    },
    {
     "name": "stdin",
     "output_type": "stream",
     "text": [
      "Choose stone, paper or scissors:  paper\n"
     ]
    },
    {
     "name": "stdout",
     "output_type": "stream",
     "text": [
      "Computer chose: paper\n",
      "🎯 You Draw this round!\n",
      "\n",
      "Round 6\n"
     ]
    },
    {
     "name": "stdin",
     "output_type": "stream",
     "text": [
      "Choose stone, paper or scissors:  stone\n"
     ]
    },
    {
     "name": "stdout",
     "output_type": "stream",
     "text": [
      "Computer chose: paper\n",
      "🎯 You Lose this round!\n",
      "\n",
      "Round 7\n"
     ]
    },
    {
     "name": "stdin",
     "output_type": "stream",
     "text": [
      "Choose stone, paper or scissors:  scissors\n"
     ]
    },
    {
     "name": "stdout",
     "output_type": "stream",
     "text": [
      "Computer chose: stone\n",
      "🎯 You Lose this round!\n",
      "\n",
      "Round 8\n"
     ]
    },
    {
     "name": "stdin",
     "output_type": "stream",
     "text": [
      "Choose stone, paper or scissors:  stone\n"
     ]
    },
    {
     "name": "stdout",
     "output_type": "stream",
     "text": [
      "Computer chose: stone\n",
      "🎯 You Draw this round!\n",
      "\n",
      "Round 9\n"
     ]
    },
    {
     "name": "stdin",
     "output_type": "stream",
     "text": [
      "Choose stone, paper or scissors:  stone\n"
     ]
    },
    {
     "name": "stdout",
     "output_type": "stream",
     "text": [
      "Computer chose: scissors\n",
      "🎯 You Win this round!\n",
      "\n",
      "Round 10\n"
     ]
    },
    {
     "name": "stdin",
     "output_type": "stream",
     "text": [
      "Choose stone, paper or scissors:  stone\n"
     ]
    },
    {
     "name": "stdout",
     "output_type": "stream",
     "text": [
      "Computer chose: scissors\n",
      "🎯 You Win this round!\n",
      "\n",
      "🎮 Game Over!\n",
      "Your Wins: 2 | Computer Wins: 5\n",
      "💻 Computer WINS the game!\n"
     ]
    },
    {
     "name": "stderr",
     "output_type": "stream",
     "text": [
      "C:\\Users\\Aarav Sethi\\AppData\\Local\\Temp\\ipykernel_8068\\857793060.py:66: UserWarning: Glyph 129518 (\\N{ABACUS}) missing from current font.\n",
      "  plt.tight_layout()\n",
      "C:\\Users\\Aarav Sethi\\AppData\\Local\\Temp\\ipykernel_8068\\857793060.py:67: UserWarning: Glyph 129518 (\\N{ABACUS}) missing from current font.\n",
      "  plt.savefig(\"sps_result_graph.png\")\n",
      "C:\\Users\\Aarav Sethi\\anaconda3\\Lib\\site-packages\\IPython\\core\\pylabtools.py:170: UserWarning: Glyph 129518 (\\N{ABACUS}) missing from current font.\n",
      "  fig.canvas.print_figure(bytes_io, **kw)\n"
     ]
    },
    {
     "data": {
      "image/png": "[encoded data removed]",
      "text/plain": [
       "<Figure size 640x480 with 1 Axes>"
      ]
     },
     "metadata": {},
     "output_type": "display_data"
    }
   ],
   "source": [
    "import random\n",
    "import pandas as pd\n",
    "import matplotlib.pyplot as plt\n",
    "\n",
    "# Choices\n",
    "choices = ['stone', 'paper', 'scissors']\n",
    "results = []\n",
    "\n",
    "# Scores\n",
    "user_wins = 0\n",
    "computer_wins = 0\n",
    "\n",
    "# Play 10 rounds\n",
    "for round_num in range(1, 11):\n",
    "    print(f\"\\nRound {round_num}\")\n",
    "    user = input(\"Choose stone, paper or scissors: \").lower()\n",
    "\n",
    "    if user not in choices:\n",
    "        print(\"❌ Invalid choice. Try again.\")\n",
    "        continue\n",
    "\n",
    "    computer = random.choice(choices)\n",
    "    print(f\"Computer chose: {computer}\")\n",
    "\n",
    "    if user == computer:\n",
    "        result = 'Draw'\n",
    "    elif (user == 'stone' and computer == 'scissors') or \\\n",
    "         (user == 'paper' and computer == 'stone') or \\\n",
    "         (user == 'scissors' and computer == 'paper'):\n",
    "        result = 'Win'\n",
    "        user_wins += 1\n",
    "    else:\n",
    "        result = 'Lose'\n",
    "        computer_wins += 1\n",
    "\n",
    "    print(f\"🎯 You {result} this round!\")\n",
    "    results.append({\n",
    "        'Round': round_num,\n",
    "        'Your Choice': user,\n",
    "        'Computer Choice': computer,\n",
    "        'Result': result\n",
    "    })\n",
    "\n",
    "# Final Result\n",
    "print(\"\\n🎮 Game Over!\")\n",
    "print(f\"Your Wins: {user_wins} | Computer Wins: {computer_wins}\")\n",
    "\n",
    "if user_wins > computer_wins:\n",
    "    print(\"🏆 You are the overall WINNER!\")\n",
    "elif computer_wins > user_wins:\n",
    "    print(\"💻 Computer WINS the game!\")\n",
    "else:\n",
    "    print(\"🤝 It's a TIE!\")\n",
    "\n",
    "# Save Results\n",
    "df = pd.DataFrame(results)\n",
    "df.to_csv(\"sps_game_final.csv\", index=False)\n",
    "df.to_excel(\"sps_game_final.xlsx\", index=False)\n",
    "\n",
    "# Show Graph\n",
    "summary = df['Result'].value_counts()\n",
    "summary.plot(kind='bar', color=['green', 'red', 'blue'])\n",
    "plt.title(\"🧮 Final Game Results\")\n",
    "plt.xlabel(\"Outcome\")\n",
    "plt.ylabel(\"Number of Rounds\")\n",
    "plt.tight_layout()\n",
    "plt.savefig(\"sps_result_graph.png\")\n",
    "plt.show()\n"
   ]
  },
  {
   "cell_type": "code",
   "execution_count": 38,
   "id": "d7eaaa7e-0854-4095-bbcf-45e885a28538",
   "metadata": {},
   "outputs": [
    {
     "name": "stdout",
     "output_type": "stream",
     "text": [
      "🎮 Stone, Paper, Scissors - Best of 10 Rounds!\n",
      "\n",
      "Round 1\n"
     ]
    },
    {
     "name": "stdin",
     "output_type": "stream",
     "text": [
      "Enter stone, paper, or scissors:  stone\n"
     ]
    },
    {
     "name": "stdout",
     "output_type": "stream",
     "text": [
      "Computer chose: scissors\n",
      "\n",
      "Round 2\n"
     ]
    },
    {
     "name": "stdin",
     "output_type": "stream",
     "text": [
      "Enter stone, paper, or scissors:  paper\n"
     ]
    },
    {
     "name": "stdout",
     "output_type": "stream",
     "text": [
      "Computer chose: stone\n",
      "\n",
      "Round 3\n"
     ]
    },
    {
     "name": "stdin",
     "output_type": "stream",
     "text": [
      "Enter stone, paper, or scissors:  scissors\n"
     ]
    },
    {
     "name": "stdout",
     "output_type": "stream",
     "text": [
      "Computer chose: stone\n",
      "\n",
      "Round 4\n"
     ]
    },
    {
     "name": "stdin",
     "output_type": "stream",
     "text": [
      "Enter stone, paper, or scissors:  stone\n"
     ]
    },
    {
     "name": "stdout",
     "output_type": "stream",
     "text": [
      "Computer chose: paper\n",
      "\n",
      "Round 5\n"
     ]
    },
    {
     "name": "stdin",
     "output_type": "stream",
     "text": [
      "Enter stone, paper, or scissors:  stone\n"
     ]
    },
    {
     "name": "stdout",
     "output_type": "stream",
     "text": [
      "Computer chose: stone\n",
      "\n",
      "Round 6\n"
     ]
    },
    {
     "name": "stdin",
     "output_type": "stream",
     "text": [
      "Enter stone, paper, or scissors:  paer\n"
     ]
    },
    {
     "name": "stdout",
     "output_type": "stream",
     "text": [
      "❌ Invalid choice. Try again.\n",
      "\n",
      "Round 7\n"
     ]
    },
    {
     "name": "stdin",
     "output_type": "stream",
     "text": [
      "Enter stone, paper, or scissors:  paper\n"
     ]
    },
    {
     "name": "stdout",
     "output_type": "stream",
     "text": [
      "Computer chose: paper\n",
      "\n",
      "Round 8\n"
     ]
    },
    {
     "name": "stdin",
     "output_type": "stream",
     "text": [
      "Enter stone, paper, or scissors:  stone\n"
     ]
    },
    {
     "name": "stdout",
     "output_type": "stream",
     "text": [
      "Computer chose: scissors\n",
      "\n",
      "Round 9\n"
     ]
    },
    {
     "name": "stdin",
     "output_type": "stream",
     "text": [
      "Enter stone, paper, or scissors:  scissors\n"
     ]
    },
    {
     "name": "stdout",
     "output_type": "stream",
     "text": [
      "Computer chose: scissors\n",
      "\n",
      "Round 10\n"
     ]
    },
    {
     "name": "stdin",
     "output_type": "stream",
     "text": [
      "Enter stone, paper, or scissors:  stone\n"
     ]
    },
    {
     "name": "stdout",
     "output_type": "stream",
     "text": [
      "Computer chose: paper\n",
      "\n",
      "🎯 Game Over!\n",
      "You won 3 rounds.\n",
      "Computer won 3 rounds.\n",
      "Draws: 3\n",
      "🤝 It's a TIE!\n"
     ]
    },
    {
     "data": {
      "image/png": "[encoded data removed]",
      "text/plain": [
       "<Figure size 640x480 with 1 Axes>"
      ]
     },
     "metadata": {},
     "output_type": "display_data"
    }
   ],
   "source": [
    "import random\n",
    "import pandas as pd\n",
    "import matplotlib.pyplot as plt\n",
    "\n",
    "# List of valid choices\n",
    "choices = ['stone', 'paper', 'scissors']\n",
    "\n",
    "# Lists to store results\n",
    "rounds = []\n",
    "your_choices = []\n",
    "computer_choices = []\n",
    "results = []\n",
    "\n",
    "# Score counters\n",
    "user_wins = 0\n",
    "comp_wins = 0\n",
    "draws = 0\n",
    "\n",
    "print(\"🎮 Stone, Paper, Scissors - Best of 10 Rounds!\")\n",
    "\n",
    "for i in range(1, 11):\n",
    "    print(f\"\\nRound {i}\")\n",
    "    user = input(\"Enter stone, paper, or scissors: \").lower()\n",
    "\n",
    "    if user not in choices:\n",
    "        print(\"❌ Invalid choice. Try again.\")\n",
    "        continue\n",
    "\n",
    "    comp = random.choice(choices)\n",
    "    print(\"Computer chose:\", comp)\n",
    "\n",
    "    if user == comp:\n",
    "        result = \"Draw\"\n",
    "        draws += 1\n",
    "    elif (user == \"stone\" and comp == \"scissors\") or \\\n",
    "         (user == \"paper\" and comp == \"stone\") or \\\n",
    "         (user == \"scissors\" and comp == \"paper\"):\n",
    "        result = \"Win\"\n",
    "        user_wins += 1\n",
    "    else:\n",
    "        result = \"Lose\"\n",
    "        comp_wins += 1\n",
    "\n",
    "    # Save this round's data\n",
    "    rounds.append(i)\n",
    "    your_choices.append(user)\n",
    "    computer_choices.append(comp)\n",
    "    results.append(result)\n",
    "\n",
    "# Show final result\n",
    "print(\"\\n🎯 Game Over!\")\n",
    "print(\"You won\", user_wins, \"rounds.\")\n",
    "print(\"Computer won\", comp_wins, \"rounds.\")\n",
    "print(\"Draws:\", draws)\n",
    "\n",
    "if user_wins > comp_wins:\n",
    "    print(\"🏆 You are the WINNER!\")\n",
    "elif user_wins < comp_wins:\n",
    "    print(\"💻 Computer WINS!\")\n",
    "else:\n",
    "    print(\"🤝 It's a TIE!\")\n",
    "\n",
    "# Save data to file\n",
    "data = {\n",
    "    \"Round\": rounds,\n",
    "    \"Your Choice\": your_choices,\n",
    "    \"Computer Choice\": computer_choices,\n",
    "    \"Result\": results\n",
    "}\n",
    "\n",
    "df = pd.DataFrame(data)\n",
    "df.to_csv(\"sps_game.csv\", index=False)\n",
    "df.to_excel(\"sps_game.xlsx\", index=False)\n",
    "\n",
    "# Plot result summary\n",
    "summary = df[\"Result\"].value_counts()\n",
    "summary.plot(kind='bar', color=['green', 'red', 'blue'])\n",
    "plt.title(\"Game Summary\")\n",
    "plt.xlabel(\"Result\")\n",
    "plt.ylabel(\"Count\")\n",
    "plt.tight_layout()\n",
    "plt.savefig(\"sps_result_chart.png\")\n",
    "plt.show()\n"
   ]
  },
  {
   "cell_type": "code",
   "execution_count": 40,
   "id": "2e29775d-23a7-4d5c-a92d-bd1799900f03",
   "metadata": {},
   "outputs": [
    {
     "name": "stdout",
     "output_type": "stream",
     "text": [
      "🎮 Welcome to Stone, Paper, Scissors (10 Rounds)\n",
      "\n",
      "👉 Round 1\n"
     ]
    },
    {
     "name": "stdin",
     "output_type": "stream",
     "text": [
      "Enter stone, paper, or scissors:  stone\n"
     ]
    },
    {
     "name": "stdout",
     "output_type": "stream",
     "text": [
      "🖥️ Computer chose: paper\n",
      "✅ You Lose this round!\n",
      "\n",
      "👉 Round 2\n"
     ]
    },
    {
     "name": "stdin",
     "output_type": "stream",
     "text": [
      "Enter stone, paper, or scissors:  paper\n"
     ]
    },
    {
     "name": "stdout",
     "output_type": "stream",
     "text": [
      "🖥️ Computer chose: paper\n",
      "✅ You Draw this round!\n",
      "\n",
      "👉 Round 3\n"
     ]
    },
    {
     "name": "stdin",
     "output_type": "stream",
     "text": [
      "Enter stone, paper, or scissors:  paper\n"
     ]
    },
    {
     "name": "stdout",
     "output_type": "stream",
     "text": [
      "🖥️ Computer chose: paper\n",
      "✅ You Draw this round!\n",
      "\n",
      "👉 Round 4\n"
     ]
    },
    {
     "name": "stdin",
     "output_type": "stream",
     "text": [
      "Enter stone, paper, or scissors:  stone\n"
     ]
    },
    {
     "name": "stdout",
     "output_type": "stream",
     "text": [
      "🖥️ Computer chose: paper\n",
      "✅ You Lose this round!\n",
      "\n",
      "👉 Round 5\n"
     ]
    },
    {
     "name": "stdin",
     "output_type": "stream",
     "text": [
      "Enter stone, paper, or scissors:  scissors\n"
     ]
    },
    {
     "name": "stdout",
     "output_type": "stream",
     "text": [
      "🖥️ Computer chose: paper\n",
      "✅ You Win this round!\n",
      "\n",
      "👉 Round 6\n"
     ]
    },
    {
     "name": "stdin",
     "output_type": "stream",
     "text": [
      "Enter stone, paper, or scissors:  scissors\n"
     ]
    },
    {
     "name": "stdout",
     "output_type": "stream",
     "text": [
      "🖥️ Computer chose: stone\n",
      "✅ You Lose this round!\n",
      "\n",
      "👉 Round 7\n"
     ]
    },
    {
     "name": "stdin",
     "output_type": "stream",
     "text": [
      "Enter stone, paper, or scissors:  scissors\n"
     ]
    },
    {
     "name": "stdout",
     "output_type": "stream",
     "text": [
      "🖥️ Computer chose: paper\n",
      "✅ You Win this round!\n",
      "\n",
      "👉 Round 8\n"
     ]
    },
    {
     "name": "stdin",
     "output_type": "stream",
     "text": [
      "Enter stone, paper, or scissors:  stone\n"
     ]
    },
    {
     "name": "stdout",
     "output_type": "stream",
     "text": [
      "🖥️ Computer chose: paper\n",
      "✅ You Lose this round!\n",
      "\n",
      "👉 Round 9\n"
     ]
    },
    {
     "name": "stdin",
     "output_type": "stream",
     "text": [
      "Enter stone, paper, or scissors:  paper\n"
     ]
    },
    {
     "name": "stdout",
     "output_type": "stream",
     "text": [
      "🖥️ Computer chose: stone\n",
      "✅ You Win this round!\n",
      "\n",
      "👉 Round 10\n"
     ]
    },
    {
     "name": "stdin",
     "output_type": "stream",
     "text": [
      "Enter stone, paper, or scissors:  paper\n"
     ]
    },
    {
     "name": "stdout",
     "output_type": "stream",
     "text": [
      "🖥️ Computer chose: scissors\n",
      "✅ You Lose this round!\n",
      "\n",
      "🎯 Game Over!\n",
      "You won 3 rounds.\n",
      "Computer won 5 rounds.\n",
      "Draws: 2\n",
      "💻 Final Result: Computer WINS the game!\n"
     ]
    },
    {
     "data": {
      "image/png": "[encoded data removed]",
      "text/plain": [
       "<Figure size 640x480 with 1 Axes>"
      ]
     },
     "metadata": {},
     "output_type": "display_data"
    }
   ],
   "source": [
    "import random\n",
    "import pandas as pd\n",
    "import matplotlib.pyplot as plt\n",
    "\n",
    "# List of choices\n",
    "choices = ['stone', 'paper', 'scissors']\n",
    "\n",
    "# Game data\n",
    "rounds = []\n",
    "your_choices = []\n",
    "computer_choices = []\n",
    "results = []\n",
    "\n",
    "# Score counters\n",
    "user_wins = 0\n",
    "comp_wins = 0\n",
    "draws = 0\n",
    "\n",
    "print(\"🎮 Welcome to Stone, Paper, Scissors (10 Rounds)\")\n",
    "\n",
    "for i in range(1, 11):\n",
    "    print(f\"\\n👉 Round {i}\")\n",
    "    user = input(\"Enter stone, paper, or scissors: \").lower()\n",
    "\n",
    "    if user not in choices:\n",
    "        print(\"❌ Invalid choice. Try again.\")\n",
    "        continue\n",
    "\n",
    "    comp = random.choice(choices)\n",
    "    print(f\"🖥️ Computer chose: {comp}\")\n",
    "\n",
    "    if user == comp:\n",
    "        result = \"Draw\"\n",
    "        draws += 1\n",
    "    elif (user == \"stone\" and comp == \"scissors\") or \\\n",
    "         (user == \"paper\" and comp == \"stone\") or \\\n",
    "         (user == \"scissors\" and comp == \"paper\"):\n",
    "        result = \"Win\"\n",
    "        user_wins += 1\n",
    "    else:\n",
    "        result = \"Lose\"\n",
    "        comp_wins += 1\n",
    "\n",
    "    # Show result of current round\n",
    "    print(f\"✅ You {result} this round!\")\n",
    "\n",
    "    # Store data\n",
    "    rounds.append(i)\n",
    "    your_choices.append(user)\n",
    "    computer_choices.append(comp)\n",
    "    results.append(result)\n",
    "\n",
    "# Final summary\n",
    "print(\"\\n🎯 Game Over!\")\n",
    "print(f\"You won {user_wins} rounds.\")\n",
    "print(f\"Computer won {comp_wins} rounds.\")\n",
    "print(f\"Draws: {draws}\")\n",
    "\n",
    "if user_wins > comp_wins:\n",
    "    print(\"🏆 Final Result: You WIN the game!\")\n",
    "elif user_wins < comp_wins:\n",
    "    print(\"💻 Final Result: Computer WINS the game!\")\n",
    "else:\n",
    "    print(\"🤝 Final Result: It's a TIE!\")\n",
    "\n",
    "# Save data\n",
    "data = {\n",
    "    \"Round\": rounds,\n",
    "    \"Your Choice\": your_choices,\n",
    "    \"Computer Choice\": computer_choices,\n",
    "    \"Result\": results\n",
    "}\n",
    "df = pd.DataFrame(data)\n",
    "df.to_csv(\"sps_game.csv\", index=False)\n",
    "df.to_excel(\"sps_game.xlsx\", index=False)\n",
    "\n",
    "# Bar chart\n",
    "df[\"Result\"].value_counts().plot(kind='bar', color=['green', 'red', 'blue'])\n",
    "plt.title(\"Game Summary\")\n",
    "plt.xlabel(\"Result\")\n",
    "plt.ylabel(\"Count\")\n",
    "plt.tight_layout()\n",
    "plt.savefig(\"sps_result_chart.png\")\n",
    "plt.show()\n"
   ]
  },
  {
   "cell_type": "code",
   "execution_count": null,
   "id": "bdbf61b9-9daa-4d22-913f-2a7715561315",
   "metadata": {},
   "outputs": [],
   "source": []
  }
 ],
 "metadata": {
  "kernelspec": {
   "display_name": "Python 3 (ipykernel)",
   "language": "python",
   "name": "python3"
  },
  "language_info": {
   "codemirror_mode": {
    "name": "ipython",
    "version": 3
   },
   "file_extension": ".py",
   "mimetype": "text/x-python",
   "name": "python",
   "nbconvert_exporter": "python",
   "pygments_lexer": "ipython3",
   "version": "3.12.4"
  }
 },
 "nbformat": 4,
 "nbformat_minor": 5
}
